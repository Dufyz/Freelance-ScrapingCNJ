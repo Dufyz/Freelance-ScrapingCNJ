{
 "cells": [
  {
   "cell_type": "code",
   "execution_count": 1,
   "metadata": {},
   "outputs": [],
   "source": [
    "import time\n",
    "\n",
    "from selenium.webdriver.support import expected_conditions as EC\n",
    "from selenium.webdriver.common.by import By\n",
    "\n",
    "from browser import getBrowserDriver\n",
    "\n",
    "browser, waiter = getBrowserDriver()\n",
    "\n",
    "# Pagina Inicial\n",
    "el_extrajudicial = waiter.until(EC.presence_of_element_located((By.XPATH, r'/html/body/div[2]/div[5]/div/div/div/ul/li[2]/a')))\n",
    "el_extrajudicial.click()\n",
    "\n",
    "el_serventias_extrajudicial = waiter.until(EC.presence_of_element_located((By.XPATH, r'/html/body/div[2]/div[5]/div/div/div/ul/li[2]/ul/li[1]/a')))\n",
    "el_serventias_extrajudicial.click()"
   ]
  },
  {
   "cell_type": "code",
   "execution_count": 2,
   "metadata": {},
   "outputs": [],
   "source": [
    "def getEstados():\n",
    "    el_mapa_ufs_geral = waiter.until(EC.presence_of_element_located((By.XPATH, r'/html/body/div[2]/div[5]/fieldset/map')))\n",
    "    el_mapa_ufs = el_mapa_ufs_geral.find_elements(By.TAG_NAME, \"area\")\n",
    "\n",
    "    return el_mapa_ufs_geral, el_mapa_ufs\n",
    "\n",
    "def getMunicipios():\n",
    "    el_mapa_muns_geral = waiter.until(EC.presence_of_element_located((By.XPATH, r'//*[@id=\"cidade_serventia\"]')))\n",
    "    el_mapa_muns = el_mapa_muns_geral.find_elements(By.TAG_NAME, \"option\")\n",
    "\n",
    "    return el_mapa_muns_geral, el_mapa_muns"
   ]
  },
  {
   "cell_type": "code",
   "execution_count": 3,
   "metadata": {},
   "outputs": [],
   "source": [
    "# # Pagina Mapa\n",
    "\n",
    "# # Selecionando elementos\n",
    "# el_mapa_ufs_geral, el_mapa_ufs = getEstados()\n",
    "\n",
    "# # Selecionando estados\n",
    "# for uf in range(1, len(el_mapa_ufs)):\n",
    "#     el_mapa_ufs[uf].click()\n",
    "#     time.sleep(2)\n",
    "\n",
    "#     # Selecionando municipios\n",
    "#     el_mapa_muns_geral, el_mapa_muns = getMunicipios()\n",
    "\n",
    "#     for num in range(1, len(el_mapa_muns)):\n",
    "#         el_mapa_muns[num].click()\n",
    "\n",
    "#         el_pesquisar = waiter.until(EC.presence_of_element_located((By.XPATH, r'//*[@id=\"div_cidade\"]/div/table/tbody/tr[2]/td/button[1]')))\n",
    "#         el_pesquisar.click()  \n",
    "#         time.sleep(1)      \n",
    "\n",
    "#         browser.back()\n",
    "#         time.sleep(1)  \n",
    "\n",
    "#         # Resetando para conseguir clicar novamente\n",
    "#         el_mapa_ufs_geral, el_mapa_ufs = getEstados()\n",
    "#         el_mapa_ufs[uf].click()\n",
    "#         el_mapa_muns_geral, el_mapa_muns = getMunicipios()\n",
    "\n",
    "#     time.sleep(1)"
   ]
  },
  {
   "cell_type": "code",
   "execution_count": 4,
   "metadata": {},
   "outputs": [],
   "source": [
    "# Pagina Mapa\n",
    "\n",
    "# Selecionando estados\n",
    "el_mapa_ufs_geral = waiter.until(EC.presence_of_element_located((By.XPATH, r'/html/body/div[2]/div[5]/fieldset/map')))\n",
    "el_mapa_ufs = el_mapa_ufs_geral.find_elements(By.TAG_NAME, \"area\")\n",
    "\n",
    "el_mapa_ufs[-10].click()\n",
    "\n",
    "# Selecionando municipios\n",
    "el_mapa_muns_geral = waiter.until(EC.presence_of_element_located((By.XPATH, r'//*[@id=\"cidade_serventia\"]')))\n",
    "el_mapa_muns = el_mapa_muns_geral.find_elements(By.TAG_NAME, \"option\")\n",
    "\n",
    "el_mapa_muns[19].click()\n",
    "\n",
    "# Pesquisar\n",
    "el_pesquisar = waiter.until(EC.presence_of_element_located((By.XPATH, r'//*[@id=\"div_cidade\"]/div/table/tbody/tr[2]/td/button[1]')))\n",
    "el_pesquisar.click()"
   ]
  },
  {
   "cell_type": "code",
   "execution_count": 5,
   "metadata": {},
   "outputs": [],
   "source": [
    "# # Pagina Cartorios \n",
    "\n",
    "# # Selecionando dados\n",
    "# el_infos_geral = waiter.until(EC.presence_of_element_located((By.XPATH, r'//*[@id=\"display\"]/tbody')))\n",
    "# el_infos = el_infos_geral.find_elements(By.TAG_NAME, 'a')\n",
    "\n",
    "# for info in range(0, len(el_infos)):\n",
    "#     if((info + 1) % 2 == 0):\n",
    "#         el_infos[info].click()\n",
    "#         el_infos[info].click()\n",
    "#     else:\n",
    "#         el_infos[info].click()\n",
    "\n",
    "#     time.sleep(2)\n",
    "#     browser.back()\n",
    "#     time.sleep(2)\n",
    "    \n",
    "#     el_infos_geral = waiter.until(EC.presence_of_element_located((By.XPATH, r'//*[@id=\"display\"]/tbody')))\n",
    "#     el_infos = el_infos_geral.find_elements(By.TAG_NAME, 'a')"
   ]
  },
  {
   "cell_type": "code",
   "execution_count": 6,
   "metadata": {},
   "outputs": [],
   "source": [
    "# Pagina Cartorios \n",
    "\n",
    "# Selecionando dados\n",
    "el_infos_geral = waiter.until(EC.presence_of_element_located((By.XPATH, r'//*[@id=\"display\"]/tbody')))\n",
    "el_infos = el_infos_geral.find_elements(By.TAG_NAME, 'a')\n",
    "\n",
    "el_infos[0].click()"
   ]
  },
  {
   "cell_type": "code",
   "execution_count": null,
   "metadata": {},
   "outputs": [],
   "source": [
    "# Pagina Dados"
   ]
  }
 ],
 "metadata": {
  "kernelspec": {
   "display_name": "venv",
   "language": "python",
   "name": "python3"
  },
  "language_info": {
   "codemirror_mode": {
    "name": "ipython",
    "version": 3
   },
   "file_extension": ".py",
   "mimetype": "text/x-python",
   "name": "python",
   "nbconvert_exporter": "python",
   "pygments_lexer": "ipython3",
   "version": "3.11.4"
  },
  "orig_nbformat": 4
 },
 "nbformat": 4,
 "nbformat_minor": 2
}
