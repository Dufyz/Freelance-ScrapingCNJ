{
 "cells": [
  {
   "cell_type": "code",
   "execution_count": 1,
   "metadata": {},
   "outputs": [],
   "source": [
    "import time\n",
    "\n",
    "from selenium.webdriver.support import expected_conditions as EC\n",
    "from selenium.webdriver.common.by import By\n",
    "\n",
    "from browser import getBrowserDriver\n",
    "\n",
    "browser, waiter = getBrowserDriver()"
   ]
  },
  {
   "cell_type": "code",
   "execution_count": 2,
   "metadata": {},
   "outputs": [],
   "source": [
    "el_extrajudicial = waiter.until(EC.presence_of_element_located((By.XPATH, r'/html/body/div[2]/div[5]/div/div/div/ul/li[2]/a')))\n",
    "el_extrajudicial.click()\n",
    "\n",
    "el_serventias_extrajudicial = waiter.until(EC.presence_of_element_located((By.XPATH, r'/html/body/div[2]/div[5]/div/div/div/ul/li[2]/ul/li[1]/a')))\n",
    "el_serventias_extrajudicial.click()"
   ]
  },
  {
   "cell_type": "code",
   "execution_count": 3,
   "metadata": {},
   "outputs": [],
   "source": [
    "el_mapa_ufs_geral = waiter.until(EC.presence_of_element_located((By.XPATH, r'/html/body/div[2]/div[5]/fieldset/map')))\n",
    "el_mapa_ufs = el_mapa_ufs_geral.find_elements(By.TAG_NAME, \"area\")\n",
    "\n",
    "# for uf in el_mapa_ufs[1:]:\n",
    "#     area.click()\n",
    "#     time.sleep(2)\n",
    "el_mapa_ufs[-10].click()"
   ]
  },
  {
   "cell_type": "code",
   "execution_count": 4,
   "metadata": {},
   "outputs": [],
   "source": [
    "el_mapa_muns_geral = waiter.until(EC.presence_of_element_located((By.XPATH, r'//*[@id=\"cidade_serventia\"]')))\n",
    "el_mapa_muns = el_mapa_muns_geral.find_elements(By.TAG_NAME, \"option\")\n",
    "\n",
    "# for mun in el_mapa_muns[1:]:\n",
    "#     mun.click()\n",
    "#     time.sleep(2)\n",
    "el_mapa_muns[19].click()"
   ]
  },
  {
   "cell_type": "code",
   "execution_count": 5,
   "metadata": {},
   "outputs": [],
   "source": [
    "el_pesquisar = waiter.until(EC.presence_of_element_located((By.XPATH, r'//*[@id=\"div_cidade\"]/div/table/tbody/tr[2]/td/button[1]')))\n",
    "el_pesquisar.click()"
   ]
  },
  {
   "cell_type": "code",
   "execution_count": 44,
   "metadata": {},
   "outputs": [],
   "source": [
    "el_infos_geral = waiter.until(EC.presence_of_element_located((By.XPATH, r'//*[@id=\"display\"]/tbody')))\n",
    "el_infos = el_infos_geral.find_elements(By.TAG_NAME, 'a')\n",
    "\n",
    "# for info in el_infos:\n",
    "#     info.click()\n",
    "#     time.sleep(2)\n",
    "el_infos[0].click()"
   ]
  }
 ],
 "metadata": {
  "kernelspec": {
   "display_name": "venv",
   "language": "python",
   "name": "python3"
  },
  "language_info": {
   "codemirror_mode": {
    "name": "ipython",
    "version": 3
   },
   "file_extension": ".py",
   "mimetype": "text/x-python",
   "name": "python",
   "nbconvert_exporter": "python",
   "pygments_lexer": "ipython3",
   "version": "3.11.4"
  },
  "orig_nbformat": 4
 },
 "nbformat": 4,
 "nbformat_minor": 2
}
