{
 "cells": [
  {
   "cell_type": "code",
   "execution_count": 2,
   "metadata": {},
   "outputs": [],
   "source": [
    "import selenium as sl"
   ]
  },
  {
   "cell_type": "code",
   "execution_count": null,
   "metadata": {},
   "outputs": [],
   "source": [
    "import json\n",
    "from pathlib import Path\n",
    "\n",
    "from selenium import webdriver\n",
    "from selenium.webdriver.support.ui import WebDriverWait\n",
    "from functions.dir import mkFolder\n",
    "from header import LINK_CERTIDAO_PREFEITURA_GO\n",
    "\n",
    "\n",
    "# Criando folders que serão utilizados para salvar os arquivos\n",
    "PATH_DESKTOP = str(Path.home()) + \"\\Desktop\"\n",
    "pwdMainFolder = mkFolder(PATH_DESKTOP,  \"certidoes-prefeitura-goiania\")\n",
    "pwdVerificarFolder = mkFolder(pwdMainFolder, \"VERIFICAR\")\n",
    "\n",
    "# Cursores driver Browser\n",
    "chrome_options = webdriver.ChromeOptions()\n",
    "chrome_options.add_argument('--kiosk-printing')\n",
    "chrome_options.add_argument('--no-sandbox')\n",
    "\n",
    "settings = {\"recentDestinations\": [{\"id\": \"Save as PDF\", \"origin\": \"local\", \"account\": \"\", \"destination\": pwdMainFolder}],\n",
    "            \"selectedDestinationId\": \"Save as PDF\",\n",
    "            \"version\": 2,\n",
    "}\n",
    "\n",
    "prefs = {\n",
    "    'savefile.default_directory': pwdMainFolder,\n",
    "    'printing.print_preview_sticky_settings.appState': json.dumps(settings)\n",
    "}\n",
    "\n",
    "chrome_options.add_experimental_option('prefs', prefs)\n",
    "browser = webdriver.Chrome(r\"chromedriver.exe\", \n",
    "options=chrome_options)\n",
    "browser.headless = True \n",
    "wait = WebDriverWait(browser, 10)\n",
    "\n",
    "def browserDriver():\n",
    "    browser.get(LINK_CERTIDAO_PREFEITURA_GO)\n",
    "    browser.maximize_window()\n",
    "    return browser, wait"
   ]
  }
 ],
 "metadata": {
  "kernelspec": {
   "display_name": "venv",
   "language": "python",
   "name": "python3"
  },
  "language_info": {
   "codemirror_mode": {
    "name": "ipython",
    "version": 3
   },
   "file_extension": ".py",
   "mimetype": "text/x-python",
   "name": "python",
   "nbconvert_exporter": "python",
   "pygments_lexer": "ipython3",
   "version": "3.11.4"
  },
  "orig_nbformat": 4
 },
 "nbformat": 4,
 "nbformat_minor": 2
}
