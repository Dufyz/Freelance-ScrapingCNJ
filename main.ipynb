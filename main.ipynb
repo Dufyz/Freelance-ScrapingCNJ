{
 "cells": [
  {
   "cell_type": "code",
   "execution_count": 1,
   "metadata": {},
   "outputs": [],
   "source": [
    "import time\n",
    "\n",
    "from selenium.webdriver.support import expected_conditions as EC\n",
    "from selenium.webdriver.common.by import By\n",
    "\n",
    "from browser import getBrowserDriver\n",
    "\n",
    "browser, waiter = getBrowserDriver()\n",
    "\n",
    "# Pagina Inicial\n",
    "el_extrajudicial = waiter.until(EC.presence_of_element_located((By.XPATH, r'/html/body/div[2]/div[5]/div/div/div/ul/li[2]/a')))\n",
    "el_extrajudicial.click()\n",
    "\n",
    "el_serventias_extrajudicial = waiter.until(EC.presence_of_element_located((By.XPATH, r'/html/body/div[2]/div[5]/div/div/div/ul/li[2]/ul/li[1]/a')))\n",
    "el_serventias_extrajudicial.click()"
   ]
  },
  {
   "cell_type": "code",
   "execution_count": 2,
   "metadata": {},
   "outputs": [],
   "source": [
    "def getEstados():\n",
    "    el_mapa_ufs_geral = waiter.until(EC.presence_of_element_located((By.XPATH, r'/html/body/div[2]/div[5]/fieldset/map')))\n",
    "    el_mapa_ufs = el_mapa_ufs_geral.find_elements(By.TAG_NAME, \"area\")\n",
    "\n",
    "    return el_mapa_ufs_geral, el_mapa_ufs\n",
    "\n",
    "def getMunicipios():\n",
    "    el_mapa_muns_geral = waiter.until(EC.presence_of_element_located((By.XPATH, r'//*[@id=\"cidade_serventia\"]')))\n",
    "    el_mapa_muns = el_mapa_muns_geral.find_elements(By.TAG_NAME, \"option\")\n",
    "\n",
    "    return el_mapa_muns_geral, el_mapa_muns"
   ]
  },
  {
   "cell_type": "code",
   "execution_count": 3,
   "metadata": {},
   "outputs": [
    {
     "ename": "KeyboardInterrupt",
     "evalue": "",
     "output_type": "error",
     "traceback": [
      "\u001b[1;31m---------------------------------------------------------------------------\u001b[0m",
      "\u001b[1;31mKeyboardInterrupt\u001b[0m                         Traceback (most recent call last)",
      "Cell \u001b[1;32mIn[3], line 27\u001b[0m\n\u001b[0;32m     25\u001b[0m     el_mapa_ufs_geral, el_mapa_ufs \u001b[39m=\u001b[39m getEstados()\n\u001b[0;32m     26\u001b[0m     el_mapa_ufs[uf]\u001b[39m.\u001b[39mclick()\n\u001b[1;32m---> 27\u001b[0m     el_mapa_muns_geral, el_mapa_muns \u001b[39m=\u001b[39m getMunicipios()\n\u001b[0;32m     29\u001b[0m time\u001b[39m.\u001b[39msleep(\u001b[39m1\u001b[39m)\n",
      "Cell \u001b[1;32mIn[2], line 8\u001b[0m, in \u001b[0;36mgetMunicipios\u001b[1;34m()\u001b[0m\n\u001b[0;32m      7\u001b[0m \u001b[39mdef\u001b[39;00m \u001b[39mgetMunicipios\u001b[39m():\n\u001b[1;32m----> 8\u001b[0m     el_mapa_muns_geral \u001b[39m=\u001b[39m waiter\u001b[39m.\u001b[39;49muntil(EC\u001b[39m.\u001b[39;49mpresence_of_element_located((By\u001b[39m.\u001b[39;49mXPATH, \u001b[39mr\u001b[39;49m\u001b[39m'\u001b[39;49m\u001b[39m//*[@id=\u001b[39;49m\u001b[39m\"\u001b[39;49m\u001b[39mcidade_serventia\u001b[39;49m\u001b[39m\"\u001b[39;49m\u001b[39m]\u001b[39;49m\u001b[39m'\u001b[39;49m)))\n\u001b[0;32m      9\u001b[0m     el_mapa_muns \u001b[39m=\u001b[39m el_mapa_muns_geral\u001b[39m.\u001b[39mfind_elements(By\u001b[39m.\u001b[39mTAG_NAME, \u001b[39m\"\u001b[39m\u001b[39moption\u001b[39m\u001b[39m\"\u001b[39m)\n\u001b[0;32m     11\u001b[0m     \u001b[39mreturn\u001b[39;00m el_mapa_muns_geral, el_mapa_muns\n",
      "File \u001b[1;32mc:\\Users\\guilh\\Desktop\\gitHub\\frella_oleozada\\venv\\Lib\\site-packages\\selenium\\webdriver\\support\\wait.py:92\u001b[0m, in \u001b[0;36mWebDriverWait.until\u001b[1;34m(self, method, message)\u001b[0m\n\u001b[0;32m     90\u001b[0m     screen \u001b[39m=\u001b[39m \u001b[39mgetattr\u001b[39m(exc, \u001b[39m\"\u001b[39m\u001b[39mscreen\u001b[39m\u001b[39m\"\u001b[39m, \u001b[39mNone\u001b[39;00m)\n\u001b[0;32m     91\u001b[0m     stacktrace \u001b[39m=\u001b[39m \u001b[39mgetattr\u001b[39m(exc, \u001b[39m\"\u001b[39m\u001b[39mstacktrace\u001b[39m\u001b[39m\"\u001b[39m, \u001b[39mNone\u001b[39;00m)\n\u001b[1;32m---> 92\u001b[0m time\u001b[39m.\u001b[39msleep(\u001b[39mself\u001b[39m\u001b[39m.\u001b[39m_poll)\n\u001b[0;32m     93\u001b[0m \u001b[39mif\u001b[39;00m time\u001b[39m.\u001b[39mmonotonic() \u001b[39m>\u001b[39m end_time:\n\u001b[0;32m     94\u001b[0m     \u001b[39mbreak\u001b[39;00m\n",
      "\u001b[1;31mKeyboardInterrupt\u001b[0m: "
     ]
    }
   ],
   "source": [
    "# Pagina Mapa\n",
    "\n",
    "# Selecionando elementos\n",
    "el_mapa_ufs_geral, el_mapa_ufs = getEstados()\n",
    "\n",
    "# Selecionando estados\n",
    "for uf in range(1, len(el_mapa_ufs)):\n",
    "    el_mapa_ufs[uf].click()\n",
    "    time.sleep(2)\n",
    "\n",
    "    # Selecionando municipios\n",
    "    el_mapa_muns_geral, el_mapa_muns = getMunicipios()\n",
    "\n",
    "    for num in range(1, len(el_mapa_muns)):\n",
    "        el_mapa_muns[num].click()\n",
    "\n",
    "        el_pesquisar = waiter.until(EC.presence_of_element_located((By.XPATH, r'//*[@id=\"div_cidade\"]/div/table/tbody/tr[2]/td/button[1]')))\n",
    "        el_pesquisar.click()  \n",
    "        time.sleep(1)      \n",
    "\n",
    "        browser.back()\n",
    "        time.sleep(1)  \n",
    "\n",
    "        # Resetando para conseguir clicar novamente\n",
    "        el_mapa_ufs_geral, el_mapa_ufs = getEstados()\n",
    "        el_mapa_ufs[uf].click()\n",
    "        el_mapa_muns_geral, el_mapa_muns = getMunicipios()\n",
    "\n",
    "    time.sleep(1)"
   ]
  },
  {
   "cell_type": "code",
   "execution_count": null,
   "metadata": {},
   "outputs": [],
   "source": [
    "# # Pagina Dados \n",
    "\n",
    "# # Selecionando dados\n",
    "# el_infos_geral = waiter.until(EC.presence_of_element_located((By.XPATH, r'//*[@id=\"display\"]/tbody')))\n",
    "# el_infos = el_infos_geral.find_elements(By.TAG_NAME, 'a')\n",
    "\n",
    "# # for info in el_infos:\n",
    "# #     info.click()\n",
    "# #     time.sleep(2)\n",
    "# el_infos[0].click()"
   ]
  }
 ],
 "metadata": {
  "kernelspec": {
   "display_name": "venv",
   "language": "python",
   "name": "python3"
  },
  "language_info": {
   "codemirror_mode": {
    "name": "ipython",
    "version": 3
   },
   "file_extension": ".py",
   "mimetype": "text/x-python",
   "name": "python",
   "nbconvert_exporter": "python",
   "pygments_lexer": "ipython3",
   "version": "3.11.4"
  },
  "orig_nbformat": 4
 },
 "nbformat": 4,
 "nbformat_minor": 2
}
